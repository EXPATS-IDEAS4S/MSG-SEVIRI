{
 "cells": [
  {
   "cell_type": "code",
   "execution_count": 38,
   "id": "320c90e1",
   "metadata": {},
   "outputs": [],
   "source": [
    "import eumdac\n",
    "import os\n",
    "import requests\n",
    "import shutil\n",
    "import time"
   ]
  },
  {
   "cell_type": "code",
   "execution_count": 39,
   "id": "36b900cf",
   "metadata": {},
   "outputs": [],
   "source": [
    "consumer_key = os.environ.get('CONSUMER_KEY')\n",
    "consumer_secret = os.environ.get('SECRET')\n",
    "\n",
    "credentials = (consumer_key, consumer_secret)\n",
    "\n",
    "token = eumdac.AccessToken(credentials)\n"
   ]
  },
  {
   "cell_type": "code",
   "execution_count": 40,
   "id": "8a73b3e9",
   "metadata": {},
   "outputs": [],
   "source": [
    "datastore = eumdac.DataStore(token)\n",
    "selected_collection = datastore.get_collection('EO:EUM:DAT:MSG:HRSEVIRI')\n",
    "latest = selected_collection.search().first()"
   ]
  },
  {
   "cell_type": "code",
   "execution_count": 41,
   "id": "2aba6821",
   "metadata": {},
   "outputs": [],
   "source": [
    "datatailor = eumdac.DataTailor(token)"
   ]
  },
  {
   "cell_type": "code",
   "execution_count": 42,
   "id": "ada0b04b",
   "metadata": {},
   "outputs": [],
   "source": [
    "chain = eumdac.tailor_models.Chain(\n",
    "    product='HRSEVIRI',\n",
    "    format='netcdf4',\n",
    "    roi={'NSWE': [30,10,-10,0]}\n",
    ")"
   ]
  },
  {
   "cell_type": "code",
   "execution_count": 43,
   "id": "bc77f402",
   "metadata": {},
   "outputs": [],
   "source": [
    "# Send the customisation to Data Tailor Web Services\n",
    "customisation = datatailor.new_customisation(latest, chain)"
   ]
  },
  {
   "cell_type": "code",
   "execution_count": 46,
   "id": "56bc113e",
   "metadata": {},
   "outputs": [
    {
     "name": "stdout",
     "output_type": "stream",
     "text": [
      "DONE\n"
     ]
    }
   ],
   "source": [
    "status = customisation.status\n",
    "while status!='DONE': #quick'n'dirty, we should check for errors output\n",
    "    status= customisation.status\n",
    "    print(customisation.status)\n",
    "    time.sleep(10)\n",
    "print(status)"
   ]
  },
  {
   "cell_type": "code",
   "execution_count": 47,
   "id": "6e8022ba",
   "metadata": {},
   "outputs": [
    {
     "data": {
      "text/plain": [
       "['HRSEVIRI-C-5da3585f/HRSEVIRI_20230914T102700Z_20230914T102700Z_epct_5da3585f_C.nc']"
      ]
     },
     "execution_count": 47,
     "metadata": {},
     "output_type": "execute_result"
    }
   ],
   "source": [
    "customisation.outputs"
   ]
  },
  {
   "cell_type": "code",
   "execution_count": 37,
   "id": "b3a3aeb4",
   "metadata": {},
   "outputs": [],
   "source": [
    "with customisation.stream_output(customisation.outputs[0]) as stream, \\\n",
    "            open(stream.name, mode='wb') as fdst:\n",
    "        shutil.copyfileobj(stream, fdst)"
   ]
  },
  {
   "cell_type": "code",
   "execution_count": null,
   "id": "b8f66952",
   "metadata": {},
   "outputs": [],
   "source": []
  }
 ],
 "metadata": {
  "kernelspec": {
   "display_name": "Python 3 (ipykernel)",
   "language": "python",
   "name": "python3"
  },
  "language_info": {
   "codemirror_mode": {
    "name": "ipython",
    "version": 3
   },
   "file_extension": ".py",
   "mimetype": "text/x-python",
   "name": "python",
   "nbconvert_exporter": "python",
   "pygments_lexer": "ipython3",
   "version": "3.9.13"
  }
 },
 "nbformat": 4,
 "nbformat_minor": 5
}
