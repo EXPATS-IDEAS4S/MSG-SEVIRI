{
 "cells": [
  {
   "attachments": {},
   "cell_type": "markdown",
   "metadata": {},
   "source": [
    "# Tutorial 1: Principle of Satellite Remote Sensing\n",
    "\n",
    "**Content creators:** Daniele Corradini\n",
    "\n",
    "**Content reviewers:** Claudia Acquistapace, Paula Bigalke\n",
    "\n",
    "**Affiliation:** Institute of Geophysics and Meteorology, University of Cologne, Germany"
   ]
  },
  {
   "attachments": {},
   "cell_type": "markdown",
   "metadata": {},
   "source": [
    "# Tutorial Objectives\n",
    "\n",
    "In this tutorial, students should get familiar in effectively managing geostationary satellite data from MSG using Python, learning how to visualize it and utilize its channels to extract meaningful cloud properties.\n",
    "\n",
    "By the end of this tutorial you will be able to:\n",
    "\n",
    "* Plot Visible (VIS) and Infrared (IR) channels after filtering outliers and selecting case studies\n",
    "* Understand how to use MSG channels and their combinations to understand cloud and enviromental features."
   ]
  },
  {
   "attachments": {},
   "cell_type": "markdown",
   "metadata": {},
   "source": [
    "# Setup\n",
    "\n",
    "Understand how the students should run this tutorial and how they will access the data\n",
    "\n",
    "For now just pretend they can access the institute cluster\n",
    "\n",
    "Here, I am usinf Python 3.10.12 Kernel (installed with Jupyter PowerToys extenion in VC code). Maybe also give more instruction on how to run it. It can be run easilty also without VC code? Maybe important to define an enviroment with all the needed packages?"
   ]
  },
  {
   "cell_type": "code",
   "execution_count": 2,
   "metadata": {},
   "outputs": [],
   "source": [
    "# imports\n",
    "import xarray as xr\n",
    "import numpy as np\n",
    "import matplotlib.pyplot as plt\n",
    "import cartopy\n",
    "import cartopy.crs as ccrs\n",
    "import os\n",
    "from glob import glob"
   ]
  },
  {
   "attachments": {},
   "cell_type": "markdown",
   "metadata": {},
   "source": [
    "## Section 1: Data Cleaning\n",
    "\n",
    "In this section you will open already processed MSG satellite data in netCDF format. Include also crop on the domain of interest. Open netcdf file with the channels using xarray (July 2023 same as Paula ex?). Interesting to see the hailstorm. \n",
    "Preprocessing and outliers: make them plot the distribution of the entire month (too much?). Ask if they see outliers. For example the high peak of low reflectances, why? So the reason is due to VIS channels at nighttime not detecting anything and this is noise that needs to be discarded. Then ask them to filter out the nighttime (in an easy way, just include a reasonable threshold for daytime, considering that July is summertime). If other outliers are visible? Maybe the sunlint of the NIR is visible, so let them try to explain why. EXTRA: should I include a part about parallax correction? "
   ]
  },
  {
   "cell_type": "code",
   "execution_count": 4,
   "metadata": {},
   "outputs": [
    {
     "data": {
      "text/plain": [
       "2785"
      ]
     },
     "execution_count": 4,
     "metadata": {},
     "output_type": "execute_result"
    }
   ],
   "source": [
    "filepattern = \"MSG*-SEVI-MSG15-0100-NA-*.nc\"\n",
    "folder_path = \"/data/sat/msg/netcdf/noparallax/2023/07/*/\"\n",
    "\n",
    "fnames = sorted(glob(folder_path+filepattern))\n",
    "len(fnames)"
   ]
  },
  {
   "attachments": {},
   "cell_type": "markdown",
   "metadata": {},
   "source": [
    "## Section 2:  Using Single Channels\n",
    "\n",
    "Select a few timesteps for the hailstorm. Plot single channels and make a gif of the hailstorm events, maybe ask where there are the deep convective and why? So they should check at the brightness temperature, if it’s cold it means high clouds. And reflectances are also high (thick clouds).\n"
   ]
  },
  {
   "attachments": {},
   "cell_type": "markdown",
   "metadata": {},
   "source": [
    "## Section 3: Using Combination of Channels\n",
    "\n",
    "Let them plot RGB images using Satpy. Ask which features are visible with RGB computed using VIS that are not visible using IR channels (mainly ground). \n",
    "Plot also IR combinations, the one relative to some CLoud proxy. And let them identify where the precipitating clouds or ice clouds for example. If they do cover this in the theoretical lecture, also ask them why.\n"
   ]
  },
  {
   "attachments": {},
   "cell_type": "markdown",
   "metadata": {},
   "source": [
    "## Resources\n",
    "\n",
    "Put here Data EUMETSAT, Data Tailor etc. \n",
    "\n",
    "Important Python Packages and tutorials "
   ]
  },
  {
   "attachments": {},
   "cell_type": "markdown",
   "metadata": {},
   "source": [
    "## References\n",
    "\n",
    "Some important references about satellite remote sensing"
   ]
  }
 ],
 "metadata": {
  "kernelspec": {
   "display_name": "Python 3",
   "language": "python",
   "name": "python3"
  },
  "language_info": {
   "codemirror_mode": {
    "name": "ipython",
    "version": 3
   },
   "file_extension": ".py",
   "mimetype": "text/x-python",
   "name": "python",
   "nbconvert_exporter": "python",
   "pygments_lexer": "ipython3",
   "version": "3.10.12"
  },
  "orig_nbformat": 4
 },
 "nbformat": 4,
 "nbformat_minor": 2
}
